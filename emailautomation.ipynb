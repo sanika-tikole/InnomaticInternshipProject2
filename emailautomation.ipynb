{
  "nbformat": 4,
  "nbformat_minor": 0,
  "metadata": {
    "colab": {
      "provenance": [],
      "authorship_tag": "ABX9TyOqEm218f9N8BZNr0DWtbBb",
      "include_colab_link": true
    },
    "kernelspec": {
      "name": "python3",
      "display_name": "Python 3"
    },
    "language_info": {
      "name": "python"
    }
  },
  "cells": [
    {
      "cell_type": "markdown",
      "metadata": {
        "id": "view-in-github",
        "colab_type": "text"
      },
      "source": [
        "<a href=\"https://colab.research.google.com/github/sanika-tikole/InnomaticInternshipProject2/blob/main/emailautomation.ipynb\" target=\"_parent\"><img src=\"https://colab.research.google.com/assets/colab-badge.svg\" alt=\"Open In Colab\"/></a>"
      ]
    },
    {
      "cell_type": "code",
      "execution_count": 1,
      "metadata": {
        "colab": {
          "base_uri": "https://localhost:8080/"
        },
        "id": "1MJJjUi3zm6H",
        "outputId": "203b321c-3583-4255-d6af-e618129c1a88"
      },
      "outputs": [
        {
          "output_type": "stream",
          "name": "stdout",
          "text": [
            "Collecting streamlit\n",
            "  Downloading streamlit-1.46.1-py3-none-any.whl.metadata (9.0 kB)\n",
            "Collecting pyngrok\n",
            "  Downloading pyngrok-7.2.11-py3-none-any.whl.metadata (9.4 kB)\n",
            "Requirement already satisfied: pandas in /usr/local/lib/python3.11/dist-packages (2.2.2)\n",
            "Requirement already satisfied: openpyxl in /usr/local/lib/python3.11/dist-packages (3.1.5)\n",
            "Requirement already satisfied: altair<6,>=4.0 in /usr/local/lib/python3.11/dist-packages (from streamlit) (5.5.0)\n",
            "Requirement already satisfied: blinker<2,>=1.5.0 in /usr/local/lib/python3.11/dist-packages (from streamlit) (1.9.0)\n",
            "Requirement already satisfied: cachetools<7,>=4.0 in /usr/local/lib/python3.11/dist-packages (from streamlit) (5.5.2)\n",
            "Requirement already satisfied: click<9,>=7.0 in /usr/local/lib/python3.11/dist-packages (from streamlit) (8.2.1)\n",
            "Requirement already satisfied: numpy<3,>=1.23 in /usr/local/lib/python3.11/dist-packages (from streamlit) (2.0.2)\n",
            "Requirement already satisfied: packaging<26,>=20 in /usr/local/lib/python3.11/dist-packages (from streamlit) (24.2)\n",
            "Requirement already satisfied: pillow<12,>=7.1.0 in /usr/local/lib/python3.11/dist-packages (from streamlit) (11.2.1)\n",
            "Requirement already satisfied: protobuf<7,>=3.20 in /usr/local/lib/python3.11/dist-packages (from streamlit) (5.29.5)\n",
            "Requirement already satisfied: pyarrow>=7.0 in /usr/local/lib/python3.11/dist-packages (from streamlit) (18.1.0)\n",
            "Requirement already satisfied: requests<3,>=2.27 in /usr/local/lib/python3.11/dist-packages (from streamlit) (2.32.3)\n",
            "Requirement already satisfied: tenacity<10,>=8.1.0 in /usr/local/lib/python3.11/dist-packages (from streamlit) (8.5.0)\n",
            "Requirement already satisfied: toml<2,>=0.10.1 in /usr/local/lib/python3.11/dist-packages (from streamlit) (0.10.2)\n",
            "Requirement already satisfied: typing-extensions<5,>=4.4.0 in /usr/local/lib/python3.11/dist-packages (from streamlit) (4.14.0)\n",
            "Collecting watchdog<7,>=2.1.5 (from streamlit)\n",
            "  Downloading watchdog-6.0.0-py3-none-manylinux2014_x86_64.whl.metadata (44 kB)\n",
            "\u001b[2K     \u001b[90m━━━━━━━━━━━━━━━━━━━━━━━━━━━━━━━━━━━━━━━━\u001b[0m \u001b[32m44.3/44.3 kB\u001b[0m \u001b[31m1.2 MB/s\u001b[0m eta \u001b[36m0:00:00\u001b[0m\n",
            "\u001b[?25hRequirement already satisfied: gitpython!=3.1.19,<4,>=3.0.7 in /usr/local/lib/python3.11/dist-packages (from streamlit) (3.1.44)\n",
            "Collecting pydeck<1,>=0.8.0b4 (from streamlit)\n",
            "  Downloading pydeck-0.9.1-py2.py3-none-any.whl.metadata (4.1 kB)\n",
            "Requirement already satisfied: tornado!=6.5.0,<7,>=6.0.3 in /usr/local/lib/python3.11/dist-packages (from streamlit) (6.4.2)\n",
            "Requirement already satisfied: PyYAML>=5.1 in /usr/local/lib/python3.11/dist-packages (from pyngrok) (6.0.2)\n",
            "Requirement already satisfied: python-dateutil>=2.8.2 in /usr/local/lib/python3.11/dist-packages (from pandas) (2.9.0.post0)\n",
            "Requirement already satisfied: pytz>=2020.1 in /usr/local/lib/python3.11/dist-packages (from pandas) (2025.2)\n",
            "Requirement already satisfied: tzdata>=2022.7 in /usr/local/lib/python3.11/dist-packages (from pandas) (2025.2)\n",
            "Requirement already satisfied: et-xmlfile in /usr/local/lib/python3.11/dist-packages (from openpyxl) (2.0.0)\n",
            "Requirement already satisfied: jinja2 in /usr/local/lib/python3.11/dist-packages (from altair<6,>=4.0->streamlit) (3.1.6)\n",
            "Requirement already satisfied: jsonschema>=3.0 in /usr/local/lib/python3.11/dist-packages (from altair<6,>=4.0->streamlit) (4.24.0)\n",
            "Requirement already satisfied: narwhals>=1.14.2 in /usr/local/lib/python3.11/dist-packages (from altair<6,>=4.0->streamlit) (1.45.0)\n",
            "Requirement already satisfied: gitdb<5,>=4.0.1 in /usr/local/lib/python3.11/dist-packages (from gitpython!=3.1.19,<4,>=3.0.7->streamlit) (4.0.12)\n",
            "Requirement already satisfied: six>=1.5 in /usr/local/lib/python3.11/dist-packages (from python-dateutil>=2.8.2->pandas) (1.17.0)\n",
            "Requirement already satisfied: charset-normalizer<4,>=2 in /usr/local/lib/python3.11/dist-packages (from requests<3,>=2.27->streamlit) (3.4.2)\n",
            "Requirement already satisfied: idna<4,>=2.5 in /usr/local/lib/python3.11/dist-packages (from requests<3,>=2.27->streamlit) (3.10)\n",
            "Requirement already satisfied: urllib3<3,>=1.21.1 in /usr/local/lib/python3.11/dist-packages (from requests<3,>=2.27->streamlit) (2.4.0)\n",
            "Requirement already satisfied: certifi>=2017.4.17 in /usr/local/lib/python3.11/dist-packages (from requests<3,>=2.27->streamlit) (2025.6.15)\n",
            "Requirement already satisfied: smmap<6,>=3.0.1 in /usr/local/lib/python3.11/dist-packages (from gitdb<5,>=4.0.1->gitpython!=3.1.19,<4,>=3.0.7->streamlit) (5.0.2)\n",
            "Requirement already satisfied: MarkupSafe>=2.0 in /usr/local/lib/python3.11/dist-packages (from jinja2->altair<6,>=4.0->streamlit) (3.0.2)\n",
            "Requirement already satisfied: attrs>=22.2.0 in /usr/local/lib/python3.11/dist-packages (from jsonschema>=3.0->altair<6,>=4.0->streamlit) (25.3.0)\n",
            "Requirement already satisfied: jsonschema-specifications>=2023.03.6 in /usr/local/lib/python3.11/dist-packages (from jsonschema>=3.0->altair<6,>=4.0->streamlit) (2025.4.1)\n",
            "Requirement already satisfied: referencing>=0.28.4 in /usr/local/lib/python3.11/dist-packages (from jsonschema>=3.0->altair<6,>=4.0->streamlit) (0.36.2)\n",
            "Requirement already satisfied: rpds-py>=0.7.1 in /usr/local/lib/python3.11/dist-packages (from jsonschema>=3.0->altair<6,>=4.0->streamlit) (0.26.0)\n",
            "Downloading streamlit-1.46.1-py3-none-any.whl (10.1 MB)\n",
            "\u001b[2K   \u001b[90m━━━━━━━━━━━━━━━━━━━━━━━━━━━━━━━━━━━━━━━━\u001b[0m \u001b[32m10.1/10.1 MB\u001b[0m \u001b[31m17.6 MB/s\u001b[0m eta \u001b[36m0:00:00\u001b[0m\n",
            "\u001b[?25hDownloading pyngrok-7.2.11-py3-none-any.whl (25 kB)\n",
            "Downloading pydeck-0.9.1-py2.py3-none-any.whl (6.9 MB)\n",
            "\u001b[2K   \u001b[90m━━━━━━━━━━━━━━━━━━━━━━━━━━━━━━━━━━━━━━━━\u001b[0m \u001b[32m6.9/6.9 MB\u001b[0m \u001b[31m28.2 MB/s\u001b[0m eta \u001b[36m0:00:00\u001b[0m\n",
            "\u001b[?25hDownloading watchdog-6.0.0-py3-none-manylinux2014_x86_64.whl (79 kB)\n",
            "\u001b[2K   \u001b[90m━━━━━━━━━━━━━━━━━━━━━━━━━━━━━━━━━━━━━━━━\u001b[0m \u001b[32m79.1/79.1 kB\u001b[0m \u001b[31m2.6 MB/s\u001b[0m eta \u001b[36m0:00:00\u001b[0m\n",
            "\u001b[?25hInstalling collected packages: watchdog, pyngrok, pydeck, streamlit\n",
            "Successfully installed pydeck-0.9.1 pyngrok-7.2.11 streamlit-1.46.1 watchdog-6.0.0\n"
          ]
        }
      ],
      "source": [
        "!pip install streamlit pyngrok pandas openpyxl\n"
      ]
    },
    {
      "cell_type": "code",
      "source": [
        "code = '''\n",
        "import streamlit as st\n",
        "import pandas as pd\n",
        "import smtplib\n",
        "from email.mime.text import MIMEText\n",
        "from email.mime.multipart import MIMEMultipart\n",
        "from email.mime.base import MIMEBase\n",
        "from email import encoders\n",
        "import ssl\n",
        "\n",
        "def send_email(name, email, subject, body, sender_email, sender_password, pdf_file=None):\n",
        "    try:\n",
        "        msg = MIMEMultipart()\n",
        "        msg['From'] = sender_email\n",
        "        msg['To'] = email\n",
        "        msg['Subject'] = subject\n",
        "        msg.attach(MIMEText(body, 'plain'))\n",
        "\n",
        "        if pdf_file:\n",
        "            part = MIMEBase('application', 'octet-stream')\n",
        "            part.set_payload(pdf_file.read())\n",
        "            encoders.encode_base64(part)\n",
        "            part.add_header('Content-Disposition', f'attachment; filename=\"{pdf_file.name}\"')\n",
        "            msg.attach(part)\n",
        "\n",
        "        context = ssl.create_default_context()\n",
        "        with smtplib.SMTP(\"smtp.gmail.com\", 587) as server:\n",
        "            server.starttls(context=context)\n",
        "            server.login(sender_email, sender_password)\n",
        "            server.sendmail(sender_email, email, msg.as_string())\n",
        "\n",
        "        return f\"✅ Sent to {name} ({email})\"\n",
        "    except Exception as e:\n",
        "        return f\"❌ Failed to {name}: {str(e)}\"\n",
        "\n",
        "st.set_page_config(page_title=\"AI Email Agent\", layout=\"centered\")\n",
        "st.sidebar.title(\"📬 AI Email Agent\")\n",
        "section = st.sidebar.radio(\"Choose Function:\", [\"Marketing Email Sender\", \"Interview Meeting Email Sender\", \"Custom Bulk Email Sender\"])\n",
        "\n",
        "st.header(f\"📌 {section}\")\n",
        "sender_email = st.text_input(\"Sender Email\", placeholder=\"you@gmail.com\")\n",
        "sender_password = st.text_input(\"App Password (Gmail)\", type=\"password\")\n",
        "excel_file = st.file_uploader(\"Upload Excel File\", type=[\"xlsx\"])\n",
        "pdf_file = st.file_uploader(\"📎 Optional: Upload PDF\", type=[\"pdf\"])\n",
        "email_subject = st.text_input(\"Subject Line\", value=\" !\")\n",
        "\n",
        "contacts = None\n",
        "if excel_file:\n",
        "    try:\n",
        "        contacts = pd.read_excel(excel_file)\n",
        "        if 'Name' not in contacts.columns or 'Email' not in contacts.columns:\n",
        "            st.error(\"Excel must have 'Name' and 'Email' columns\")\n",
        "            contacts = None\n",
        "    except Exception as e:\n",
        "        st.error(f\"Error reading Excel file: {e}\")\n",
        "\n",
        "if section == \"Marketing Email Sender\":\n",
        "    st.subheader(\"📣 Compose Marketing Email\")\n",
        "    email_intro = \"Hi {name},\\\\n\\\\nWe’re excited to share our latest product with you!\\\\n\"\n",
        "    email_footer = \"\\\\n\\\\nFollow us:\\\\nLinkedIn: {website}\\\\nInstagram: {instagram}\"\n",
        "    user_message = st.text_area(\"📝 Add your custom content\", height=150)\n",
        "    website = st.text_input(\"website Link\")\n",
        "    instagram = st.text_input(\"Instagram Link\")\n",
        "    full_body = email_intro + user_message + email_footer\n",
        "\n",
        "elif section == \"Interview Meeting Email Sender\":\n",
        "    st.subheader(\"📄 Compose Interview Email\")\n",
        "    email_intro = \"Dear {name},\\\\n\\\\nYou have been shortlisted for an interview for {job_role} position.\\\\n\"\n",
        "    email_footer = \"\\\\n\\\\nPlease be on time.\\\\nBest regards,\\\\nHR Team\"\n",
        "    job_role = st.text_input(\"Job Role\")\n",
        "    meeting_link = st.text_input(\"Zoom/Meet Link\")\n",
        "    time_slot = st.text_input(\"Scheduled Time\")\n",
        "    user_message = st.text_area(\"📋 Interview Details\", height=150)\n",
        "    full_body = email_intro + user_message + f\"\\\\n\\\\nMeeting Link: {meeting_link}\\\\nTime: {time_slot}\" + email_footer\n",
        "\n",
        "elif section == \"Custom Bulk Email Sender\":\n",
        "    st.subheader(\"🛠️ Write Your Full Message\")\n",
        "\n",
        "    user_message = st.text_area(\n",
        "        \"Enter your custom message below. The greeting 'Dear {name},' will be added automatically.\",\n",
        "        height=250\n",
        "    )\n",
        "\n",
        "    # Add standard greeting\n",
        "    email_intro = \"\"\"Dear {name},\n",
        "\n",
        "\"\"\"\n",
        "    full_body = email_intro + user_message\n",
        "\n",
        "if st.button(\"🚀 Send Emails\"):\n",
        "    if not all([sender_email, sender_password, contacts is not None, full_body]):\n",
        "        st.warning(\"Please fill in all required fields.\")\n",
        "    else:\n",
        "        logs = []\n",
        "        for _, row in contacts.iterrows():\n",
        "            name = row['Name']\n",
        "            email = row['Email']\n",
        "            try:\n",
        "                formatted_body = full_body.format(\n",
        "                    name=name,\n",
        "                    website=website if section == \"Marketing Email Sender\" else \"\",\n",
        "                    instagram=instagram if section == \"Marketing Email Sender\" else \"\",\n",
        "                    job_role=job_role if section ==\"Interview Meeting Email Sender\" else\"\"\n",
        "                )\n",
        "            except KeyError as e:\n",
        "                st.error(f\"Missing placeholder value: {e}\")\n",
        "                break\n",
        "            result = send_email(name, email, email_subject, formatted_body, sender_email, sender_password, pdf_file)\n",
        "            logs.append(result)\n",
        "        st.success(\"✅ Email process complete!\")\n",
        "        for log in logs:\n",
        "            st.write(log)\n",
        "'''\n",
        "with open(\"app.py\", \"w\") as f:\n",
        "    f.write(code)"
      ],
      "metadata": {
        "id": "QgdcFjQW0HId"
      },
      "execution_count": 2,
      "outputs": []
    },
    {
      "cell_type": "code",
      "source": [
        "!ngrok config add-authtoken 2yGoKhUCLFBfu8kO3lfosPkZvEn_CdpzBrjUuo5SmxCSq3od\n"
      ],
      "metadata": {
        "colab": {
          "base_uri": "https://localhost:8080/"
        },
        "id": "iOAnHB9M008Y",
        "outputId": "41839ba6-e6c1-4c11-9197-c5b920f4209e"
      },
      "execution_count": 3,
      "outputs": [
        {
          "output_type": "stream",
          "name": "stdout",
          "text": [
            "Authtoken saved to configuration file: /root/.config/ngrok/ngrok.yml\n"
          ]
        }
      ]
    },
    {
      "cell_type": "markdown",
      "source": [],
      "metadata": {
        "id": "7nnrWuIN00kT"
      }
    },
    {
      "cell_type": "code",
      "source": [
        "from pyngrok import ngrok\n",
        "\n",
        "# Start Streamlit app\n",
        "!streamlit run app.py &>/content/logs.txt &\n",
        "\n",
        "# Open ngrok tunnel the correct way (updated)\n",
        "public_url = ngrok.connect(addr=\"8501\", proto=\"http\")\n",
        "print(f\"🌐 Your app is live at: {public_url}\")\n"
      ],
      "metadata": {
        "colab": {
          "base_uri": "https://localhost:8080/"
        },
        "id": "WTYgejfM0QQB",
        "outputId": "cd26c383-c7f6-4783-9c18-328e18c60f09"
      },
      "execution_count": 4,
      "outputs": [
        {
          "output_type": "stream",
          "name": "stdout",
          "text": [
            "🌐 Your app is live at: NgrokTunnel: \"https://d6f6-34-34-5-31.ngrok-free.app\" -> \"http://localhost:8501\"\n"
          ]
        }
      ]
    },
    {
      "cell_type": "markdown",
      "source": [],
      "metadata": {
        "id": "bMNtLVK50QD4"
      }
    }
  ]
}